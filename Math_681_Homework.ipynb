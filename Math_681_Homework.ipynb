{
  "nbformat": 4,
  "nbformat_minor": 0,
  "metadata": {
    "colab": {
      "name": "Math 681 Homework.ipynb",
      "provenance": [],
      "authorship_tag": "ABX9TyNSm9tGlWSccRjABLf/l12i",
      "include_colab_link": true
    },
    "kernelspec": {
      "name": "python3",
      "display_name": "Python 3"
    }
  },
  "cells": [
    {
      "cell_type": "markdown",
      "metadata": {
        "id": "view-in-github",
        "colab_type": "text"
      },
      "source": [
        "<a href=\"https://colab.research.google.com/github/jason-howald/Math-681/blob/master/Math_681_Homework.ipynb\" target=\"_parent\"><img src=\"https://colab.research.google.com/assets/colab-badge.svg\" alt=\"Open In Colab\"/></a>"
      ]
    },
    {
      "cell_type": "markdown",
      "metadata": {
        "id": "J4gReDZSSnly",
        "colab_type": "text"
      },
      "source": [
        "# Homeworks\n",
        "\n",
        "| Set        | Due           | Assignment  |\n",
        "| ---- |:-------------:| -----:|\n",
        "| 1      | Friday, 2020-01-31 | Exercises 1 and 2 from Lecture Notes, page 2 |\n",
        "| 2      | Friday, 2020-02-07 |  TBA |"
      ]
    },
    {
      "cell_type": "markdown",
      "metadata": {
        "id": "sBNUMI8bSnZG",
        "colab_type": "text"
      },
      "source": [
        ""
      ]
    }
  ]
}