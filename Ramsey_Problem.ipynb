{
  "nbformat": 4,
  "nbformat_minor": 0,
  "metadata": {
    "colab": {
      "name": "Ramsey Problem.ipynb",
      "provenance": [],
      "collapsed_sections": [],
      "authorship_tag": "ABX9TyOojooSJaV+ZUpadeZrfNh4",
      "include_colab_link": true
    },
    "kernelspec": {
      "name": "python3",
      "display_name": "Python 3"
    }
  },
  "cells": [
    {
      "cell_type": "markdown",
      "metadata": {
        "id": "view-in-github",
        "colab_type": "text"
      },
      "source": [
        "<a href=\"https://colab.research.google.com/github/jason-howald/Math-681/blob/master/Ramsey_Problem.ipynb\" target=\"_parent\"><img src=\"https://colab.research.google.com/assets/colab-badge.svg\" alt=\"Open In Colab\"/></a>"
      ]
    },
    {
      "cell_type": "markdown",
      "metadata": {
        "id": "Uczkl5tfzQ_a",
        "colab_type": "text"
      },
      "source": [
        "# A Problem in Infinite Ramsey Theory"
      ]
    },
    {
      "cell_type": "markdown",
      "metadata": {
        "id": "9laFof4VzQ4C",
        "colab_type": "text"
      },
      "source": [
        "**Problem:** Consider an infinite complete graph $G$, with vertices uncolored and edges colored either red or green. Then there is an infinite monochromatic subgraph. That is, there is an infinite subset A of vertices of G so that the edges $\\overline{xy}$ for $x, y \\in A$ all have the same color."
      ]
    },
    {
      "cell_type": "markdown",
      "metadata": {
        "id": "lrZH-xyOzQlt",
        "colab_type": "text"
      },
      "source": [
        "**The Proof:**\n",
        "\n",
        "Let $V$ be the vertex set. For $x,y \\in V$ we write $c(\\overline{xy})$ for the color of the edge $\\overline{xy}$.\n",
        "\n",
        "1. First we attempt to construct an infinite subgraph whose edges are all **green.** We describe a process which maintains three separate collections of vertices, which we call $A$ (accepted), $P$ (pending), and $R$ (rejected). \n",
        "  - a. Initially, set $A = \\emptyset$, $P = V$, $R = \\emptyset$. (\"All vertices are pending.\")\n",
        "  - b. Repeat (as long as possible)\n",
        "    - Find: Choose $x \\in P$ so that $c(\\overline{xy}) = $green for infinitely many $y \\in P$.\n",
        "    - Acceptance: Move $x$ from set $P$ to set $A$.\n",
        "    - Rejections: For any $y \\in P$ having $c(\\overline{xy}) = $red, move $y$ from $P$ to $R$.\n",
        "\n",
        "Notes on this process:\n",
        "1. The process can fail if (and only if) the step labeled \"Find\" fails. This would mean that, among pending vertices, each has only finitely many green edges to other pending vertices. \n",
        "2. If step \"Find\" succeeds, the pending set $P$ remains infinite after acceptances and rejections, because of how $x$ is identified. \n",
        "3. After the \"Rejections\" step, all edges from $x$ to $P$ are green. All future accepted vertices are taken from subsets of $P$.\n",
        "4. The accepted set $A$ contains a sequence of vertices $x$ identified in step \"Find\". All edges connecting $x_i \\in A$ to $x_j \\in A$ are green.\n",
        "5. If the process can be continued for infinitely many steps, it produces an infinite sequence of distinct choices $x$. Edges between them are green. This produces an infinite green subgraph.\n",
        "6. If the process ends after finitely many steps, we will have:\n",
        "  - The \"Find\" step has failed: For **every** $x \\in P$, $c(\\overline{xy}) = $green for only finitely many $y \\in P$.\n",
        "  - $P$ is still infinite.\n",
        "  - In this case we discard all accepted vertices and restart the algorithm, beginning with the set $P$ as defined at the time of failure, seeking red edges instead of green. There are so few green edges left (only finitely many for each possible $x$!) that the algorithm now cannot fail to find an infinite red subgraph!\n",
        "\n",
        ":)\n",
        "\n",
        "-jah"
      ]
    },
    {
      "cell_type": "code",
      "metadata": {
        "id": "lh-Jah1gzPCI",
        "colab_type": "code",
        "colab": {}
      },
      "source": [
        ""
      ],
      "execution_count": 0,
      "outputs": []
    }
  ]
}